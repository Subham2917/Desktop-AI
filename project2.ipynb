{
 "cells": [
  {
   "cell_type": "code",
   "execution_count": 1,
   "metadata": {},
   "outputs": [
    {
     "ename": "ModuleNotFoundError",
     "evalue": "No module named 'plyer'",
     "output_type": "error",
     "traceback": [
      "\u001b[1;31m---------------------------------------------------------------------------\u001b[0m",
      "\u001b[1;31mModuleNotFoundError\u001b[0m                       Traceback (most recent call last)",
      "\u001b[1;32m<ipython-input-1-75b817ca4037>\u001b[0m in \u001b[0;36m<module>\u001b[1;34m\u001b[0m\n\u001b[1;32m----> 1\u001b[1;33m \u001b[1;32mfrom\u001b[0m \u001b[0mplyer\u001b[0m \u001b[1;32mimport\u001b[0m \u001b[0mnotification\u001b[0m\u001b[1;33m\u001b[0m\u001b[1;33m\u001b[0m\u001b[0m\n\u001b[0m\u001b[0;32m      2\u001b[0m \u001b[1;32mimport\u001b[0m \u001b[0mrequests\u001b[0m\u001b[1;33m\u001b[0m\u001b[1;33m\u001b[0m\u001b[0m\n\u001b[0;32m      3\u001b[0m \u001b[1;32mfrom\u001b[0m \u001b[0mbs4\u001b[0m \u001b[1;32mimport\u001b[0m \u001b[0mBeautifulSoup\u001b[0m\u001b[1;33m\u001b[0m\u001b[1;33m\u001b[0m\u001b[0m\n\u001b[0;32m      4\u001b[0m \u001b[1;32mimport\u001b[0m \u001b[0mtime\u001b[0m\u001b[1;33m\u001b[0m\u001b[1;33m\u001b[0m\u001b[0m\n\u001b[0;32m      5\u001b[0m \u001b[1;33m\u001b[0m\u001b[0m\n",
      "\u001b[1;31mModuleNotFoundError\u001b[0m: No module named 'plyer'"
     ]
    }
   ],
   "source": [
    "from plyer import notification\n",
    "import requests\n",
    "from bs4 import BeautifulSoup\n",
    "import time\n",
    "\n",
    "def notifyMe(title, message):\n",
    "    notification.notify(\n",
    "        title = title,\n",
    "        message = message,\n",
    "        app_icon = \"D:\\MyData\\Business\\code playground\\covidNotify\\icon.ico\",\n",
    "        timeout = 6\n",
    "    )\n",
    "\n",
    "\n",
    "def getData(url):\n",
    "    r = requests.get(url)\n",
    "    return r.text\n",
    "\n",
    "\n",
    "if __name__ == \"__main__\":\n",
    "    while True:\n",
    "        # notifyMe(\"Harry\", \"Lets stop the spread of this virus together\")\n",
    "        myHtmlData = getData('https://www.mohfw.gov.in/')\n",
    "\n",
    "        soup = BeautifulSoup(myHtmlData, 'html.parser')\n",
    "        # print(soup.prettify())\n",
    "        myDataStr = \"\"\n",
    "        for tr in soup.find_all('tbody')[1].find_all('tr'):\n",
    "            myDataStr += tr.get_text()\n",
    "        myDataStr = myDataStr[1:]\n",
    "        itemList = myDataStr.split(\"\\n\\n\")\n",
    "\n",
    "        states = ['Chandigarh', 'Telengana', 'Uttar Pradesh']\n",
    "        for item in itemList[0:22]:\n",
    "            dataList = item.split('\\n')\n",
    "            if dataList[1] in states: \n",
    "                nTitle = 'Cases of Covid-19'\n",
    "                nText = f\"State {dataList[1]}\\nIndian : {dataList[2]} & Foreign : {dataList[3]}\\nCured :  {dataList[4]}\\nDeaths :  {dataList[5]}\"\n",
    "                notifyMe(nTitle, nText)\n",
    "                time.sleep(2)\n",
    "        time.sleep(3600)"
   ]
  },
  {
   "cell_type": "code",
   "execution_count": null,
   "metadata": {},
   "outputs": [],
   "source": []
  },
  {
   "cell_type": "code",
   "execution_count": null,
   "metadata": {},
   "outputs": [],
   "source": []
  }
 ],
 "metadata": {
  "kernelspec": {
   "display_name": "Python 3",
   "language": "python",
   "name": "python3"
  },
  "language_info": {
   "codemirror_mode": {
    "name": "ipython",
    "version": 3
   },
   "file_extension": ".py",
   "mimetype": "text/x-python",
   "name": "python",
   "nbconvert_exporter": "python",
   "pygments_lexer": "ipython3",
   "version": "3.8.5"
  }
 },
 "nbformat": 4,
 "nbformat_minor": 4
}
